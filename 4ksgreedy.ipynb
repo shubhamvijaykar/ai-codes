{
 "cells": [
  {
   "cell_type": "code",
   "execution_count": 1,
   "id": "d18b7efa",
   "metadata": {},
   "outputs": [
    {
     "name": "stdout",
     "output_type": "stream",
     "text": [
      "240.0\n"
     ]
    }
   ],
   "source": [
    "# Structure for an item which stores weight and\n",
    "# corresponding value of Item\n",
    "class Item:\n",
    "    def __init__(self, profit, weight):\n",
    "        self.profit = profit\n",
    "        self.weight = weight\n",
    "\n",
    "# Main greedy function to solve problem\n",
    "\n",
    "\n",
    "def fractionalKnapsack(W, arr):\n",
    "\n",
    "    # Sorting Item on basis of ratio\n",
    "    arr.sort(key=lambda x: (x.profit/x.weight), reverse=True)\n",
    "\n",
    "    # Result(value in Knapsack)\n",
    "    finalvalue = 0.0\n",
    "\n",
    "    # Looping through all Items\n",
    "    for item in arr:\n",
    "\n",
    "        # If adding Item won't overflow,\n",
    "        # add it completely\n",
    "        if item.weight <= W:\n",
    "            W -= item.weight\n",
    "            finalvalue += item.profit\n",
    "\n",
    "        # If we can't add current Item,\n",
    "        # add fractional part of it\n",
    "        else:\n",
    "            finalvalue += item.profit * W / item.weight\n",
    "            break\n",
    "\n",
    "    # Returning final value\n",
    "    return finalvalue\n",
    "\n",
    "\n",
    "# Driver Code\n",
    "if __name__ == \"__main__\":\n",
    "    W = 50\n",
    "    arr = [Item(60, 10), Item(100, 20), Item(120, 30)]\n",
    "\n",
    "    # Function call\n",
    "    max_val = fractionalKnapsack(W, arr)\n",
    "    print(max_val)\n",
    "\n",
    "# TC- > O(NlogN)   FOR SORTING\n",
    "# SC -> O(N) as no extra space is\n",
    "\n",
    "# OBJECTIVE IS THAT PROFIT SHOULD BE MAXXIMUM"
   ]
  },
  {
   "cell_type": "code",
   "execution_count": null,
   "id": "d3f9db50",
   "metadata": {},
   "outputs": [],
   "source": []
  }
 ],
 "metadata": {
  "kernelspec": {
   "display_name": "Python 3 (ipykernel)",
   "language": "python",
   "name": "python3"
  },
  "language_info": {
   "codemirror_mode": {
    "name": "ipython",
    "version": 3
   },
   "file_extension": ".py",
   "mimetype": "text/x-python",
   "name": "python",
   "nbconvert_exporter": "python",
   "pygments_lexer": "ipython3",
   "version": "3.10.6"
  }
 },
 "nbformat": 4,
 "nbformat_minor": 5
}
