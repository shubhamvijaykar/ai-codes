{
 "cells": [
  {
   "cell_type": "code",
   "execution_count": 1,
   "id": "f8a80318",
   "metadata": {},
   "outputs": [
    {
     "name": "stdout",
     "output_type": "stream",
     "text": [
      "|Q| | | | | | | |\n",
      "| | | | | | |Q| |\n",
      "| | | | |Q| | | |\n",
      "| | | | | | | |Q|\n",
      "| |Q| | | | | | |\n",
      "| | | |Q| | | | |\n",
      "| | | | | |Q| | |\n",
      "| | |Q| | | | | |\n"
     ]
    },
    {
     "data": {
      "text/plain": [
       "True"
      ]
     },
     "execution_count": 1,
     "metadata": {},
     "output_type": "execute_result"
    }
   ],
   "source": [
    "N = 8\n",
    "\n",
    "def printSolution(board):\n",
    "\tfor i in range(N):\n",
    "\t\tfor j in range(N):\n",
    "\t\t\tprint('|' + board[i][j], end='')\n",
    "\t\tprint('|')\n",
    "\n",
    "def isSafe(row, col, slashCode, backslashCode, rowLookup, slashCodeLookup, backslashCodeLookup):\n",
    "\tif (slashCodeLookup[slashCode[row][col]] or backslashCodeLookup[backslashCode[row][col]] or rowLookup[row]):\n",
    "\t\treturn False\n",
    "\n",
    "\treturn True\n",
    "\n",
    "def solveNQueensUtil(board, col, slashCode, backslashCode, rowLookup, slashCodeLookup, backslashCodeLookup):\n",
    "\tif(col >= N):\n",
    "\t\treturn True\n",
    "\tfor i in range(N):\n",
    "\t\tif(isSafe(i, col, slashCode, backslashCode, rowLookup, slashCodeLookup, backslashCodeLookup)):\t\t\n",
    "\t\t\tboard[i][col] = 'Q'\n",
    "\t\t\trowLookup[i] = True\n",
    "\t\t\tslashCodeLookup[slashCode[i][col]] = True\n",
    "\t\t\tbackslashCodeLookup[backslashCode[i][col]] = True\n",
    "\t\t\t\n",
    "\t\t\tif(solveNQueensUtil(board, col + 1, slashCode, backslashCode, rowLookup, slashCodeLookup, backslashCodeLookup)):\n",
    "\t\t\t\treturn True\n",
    "\n",
    "\t\t\tboard[i][col] = ' '\n",
    "\t\t\trowLookup[i] = False\n",
    "\t\t\tslashCodeLookup[slashCode[i][col]] = False\n",
    "\t\t\tbackslashCodeLookup[backslashCode[i][col]] = False\n",
    "\n",
    "\treturn False\n",
    "\n",
    "def solveNQueens():\n",
    "\tboard = [[' ' for i in range(N)]\n",
    "\t\t\t\tfor j in range(N)]\t\n",
    "\tslashCode = [[' ' for i in range(N)]\n",
    "\t\t\t\t\tfor j in range(N)]\n",
    "\tbackslashCode = [[' ' for i in range(N)]\n",
    "\t\t\t\t\t\tfor j in range(N)]\n",
    "\n",
    "\trowLookup = [False] * N\n",
    "\tx = 2 * N - 1\n",
    "\tslashCodeLookup = [False] * x\n",
    "\tbackslashCodeLookup = [False] * x\n",
    "\t\n",
    "\tfor rr in range(N):\n",
    "\t\tfor cc in range(N):\n",
    "\t\t\tslashCode[rr][cc] = rr + cc\n",
    "\t\t\tbackslashCode[rr][cc] = rr - cc + 7\n",
    "\t\n",
    "\tif(solveNQueensUtil(board, 0, slashCode, backslashCode, rowLookup, slashCodeLookup, backslashCodeLookup) == False):\n",
    "\t\tprint(\"Solution does not exist\")\n",
    "\t\treturn False\n",
    "\n",
    "\tprintSolution(board)\n",
    "\treturn True\n",
    "\n",
    "solveNQueens()\n",
    "\n",
    "#Output"
   ]
  },
  {
   "cell_type": "code",
   "execution_count": null,
   "id": "3e10d1e6",
   "metadata": {},
   "outputs": [],
   "source": []
  }
 ],
 "metadata": {
  "kernelspec": {
   "display_name": "Python 3 (ipykernel)",
   "language": "python",
   "name": "python3"
  },
  "language_info": {
   "codemirror_mode": {
    "name": "ipython",
    "version": 3
   },
   "file_extension": ".py",
   "mimetype": "text/x-python",
   "name": "python",
   "nbconvert_exporter": "python",
   "pygments_lexer": "ipython3",
   "version": "3.9.7"
  }
 },
 "nbformat": 4,
 "nbformat_minor": 5
}
