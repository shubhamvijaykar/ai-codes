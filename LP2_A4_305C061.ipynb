{
 "cells": [
  {
   "cell_type": "markdown",
   "metadata": {},
   "source": [
    "# Assignment 4"
   ]
  },
  {
   "cell_type": "markdown",
   "metadata": {},
   "source": [
    "## N queen solution source code:"
   ]
  },
  {
   "cell_type": "code",
   "execution_count": 32,
   "metadata": {},
   "outputs": [
    {
     "name": "stdout",
     "output_type": "stream",
     "text": [
      "0 0 1 0 \n",
      "1 0 0 0 \n",
      "0 0 0 1 \n",
      "0 1 0 0 \n"
     ]
    },
    {
     "data": {
      "text/plain": [
       "True"
      ]
     },
     "execution_count": 32,
     "metadata": {},
     "output_type": "execute_result"
    }
   ],
   "source": [
    "# Python program to solve N Queen\n",
    "# Problem using backtracking\n",
    "\n",
    "global N\n",
    "N = 4\n",
    "\n",
    "def printSolution(board):\n",
    "\tfor i in range(N):\n",
    "\t\tfor j in range(N):\n",
    "\t\t\tprint (board[i][j],end=' ')\n",
    "\t\tprint()\n",
    "\n",
    "\n",
    "# A utility function to check if a queen can\n",
    "# be placed on board[row][col]. Note that this\n",
    "# function is called when \"col\" queens are\n",
    "# already placed in columns from 0 to col -1.\n",
    "# So we need to check only left side for\n",
    "# attacking queens\n",
    "def isSafe(board, row, col):\n",
    "\n",
    "\t# Check this row on left side\n",
    "\tfor i in range(col):\n",
    "\t\tif board[row][i] == 1:\n",
    "\t\t\treturn False\n",
    "\n",
    "\t# Check upper diagonal on left side\n",
    "\tfor i, j in zip(range(row, -1, -1), range(col, -1, -1)):\n",
    "\t\tif board[i][j] == 1:\n",
    "\t\t\treturn False\n",
    "\n",
    "\t# Check lower diagonal on left side\n",
    "\tfor i, j in zip(range(row, N, 1), range(col, -1, -1)):\n",
    "\t\tif board[i][j] == 1:\n",
    "\t\t\treturn False\n",
    "\n",
    "\treturn True\n",
    "\n",
    "def solveNQUtil(board, col):\n",
    "\t# base case: If all queens are placed\n",
    "\t# then return true\n",
    "\tif col >= N:\n",
    "\t\treturn True\n",
    "\n",
    "\t# Consider this column and try placing\n",
    "\t# this queen in all rows one by one\n",
    "\tfor i in range(N):\n",
    "\n",
    "\t\tif isSafe(board, i, col):\n",
    "\t\t\t# Place this queen in board[i][col]\n",
    "\t\t\tboard[i][col] = 1\n",
    "\n",
    "\t\t\t# recur to place rest of the queens\n",
    "\t\t\tif solveNQUtil(board, col + 1) == True:\n",
    "\t\t\t\treturn True\n",
    "\n",
    "\t\t\t# If placing queen in board[i][col\n",
    "\t\t\t# doesn't lead to a solution, then\n",
    "\t\t\t# queen from board[i][col]\n",
    "\t\t\tboard[i][col] = 0\n",
    "\n",
    "\t# if the queen can not be placed in any row in\n",
    "\t# this column col then return false\n",
    "\treturn False\n",
    "\n",
    "# This function solves the N Queen problem using\n",
    "# Backtracking. It mainly uses solveNQUtil() to\n",
    "# solve the problem. It returns false if queens\n",
    "# cannot be placed, otherwise return true and\n",
    "# placement of queens in the form of 1s.\n",
    "# note that there may be more than one\n",
    "# solutions, this function prints one of the\n",
    "# feasible solutions.\n",
    "def solveNQ():\n",
    "\tboard = [ [0, 0, 0, 0],\n",
    "\t\t\t[0, 0, 0, 0],\n",
    "\t\t\t[0, 0, 0, 0],\n",
    "\t\t\t[0, 0, 0, 0]\n",
    "\t\t\t]\n",
    "\n",
    "\tif solveNQUtil(board, 0) == False:\n",
    "\t\tprint (\"Solution does not exist\")\n",
    "\t\treturn False\n",
    "\n",
    "\tprintSolution(board)\n",
    "\treturn True\n",
    "\n",
    "# driver program to test above function\n",
    "solveNQ()"
   ]
  },
  {
   "cell_type": "code",
   "execution_count": 2,
   "metadata": {},
   "outputs": [
    {
     "name": "stdout",
     "output_type": "stream",
     "text": [
      "1 0 0 0 0 0 0 0 \n",
      "0 0 0 0 0 0 1 0 \n",
      "0 0 0 0 1 0 0 0 \n",
      "0 0 0 0 0 0 0 1 \n",
      "0 1 0 0 0 0 0 0 \n",
      "0 0 0 1 0 0 0 0 \n",
      "0 0 0 0 0 1 0 0 \n",
      "0 0 1 0 0 0 0 0 \n"
     ]
    },
    {
     "data": {
      "text/plain": [
       "True"
      ]
     },
     "execution_count": 2,
     "metadata": {},
     "output_type": "execute_result"
    }
   ],
   "source": [
    "# FOR 8X8 CHESSBOARD\n",
    "\n",
    "global N\n",
    "N = 8\n",
    "\n",
    "def printSolution(board):\n",
    "    for i in range(N):\n",
    "        for j in range(N):\n",
    "            print (board[i][j],end=' ')\n",
    "        print()\n",
    "\n",
    "def isSafe(board, row, col):\n",
    "    for i in range(col):\n",
    "        if board[row][i] == 1:\n",
    "            return False\n",
    "\n",
    "    for i, j in zip(range(row, -1, -1), range(col, -1, -1)):\n",
    "        if board[i][j] == 1:\n",
    "            return False\n",
    "\n",
    "    for i, j in zip(range(row, N, 1), range(col, -1, -1)):\n",
    "        if board[i][j] == 1:\n",
    "            return False\n",
    "\n",
    "    return True\n",
    "\n",
    "def solveNQUtil(board, col):\n",
    "\n",
    "    if col >= N:\n",
    "        return True\n",
    "\n",
    "    for i in range(N):\n",
    "\n",
    "        if isSafe(board, i, col):\n",
    "            board[i][col] = 1\n",
    "\n",
    "            if solveNQUtil(board, col + 1) == True:\n",
    "                return True\n",
    "            board[i][col] = 0\n",
    "\n",
    "    return False\n",
    "\n",
    "def solveNQ():\n",
    "    board = [ [0, 0, 0, 0, 0, 0, 0, 0],\n",
    "            [0, 0, 0, 0, 0, 0, 0, 0],\n",
    "            [0, 0, 0, 0, 0, 0, 0, 0],\n",
    "            [0, 0, 0, 0, 0, 0, 0, 0],\n",
    "            [0, 0, 0, 0, 0, 0, 0, 0],\n",
    "            [0, 0, 0, 0, 0, 0, 0, 0],\n",
    "            [0, 0, 0, 0, 0, 0, 0, 0],\n",
    "            [0, 0, 0, 0, 0, 0, 0, 0]]\n",
    "\n",
    "    if solveNQUtil(board, 0) == False:\n",
    "        print (\"Solution does not exist\")\n",
    "        return False\n",
    "\n",
    "    printSolution(board)\n",
    "    return True\n",
    "\n",
    "solveNQ()"
   ]
  },
  {
   "cell_type": "code",
   "execution_count": 31,
   "metadata": {},
   "outputs": [
    {
     "name": "stdout",
     "output_type": "stream",
     "text": [
      "Enter number of Queens : 5\n",
      "1 0 0 0 0 \n",
      "0 0 1 0 0 \n",
      "0 0 0 0 1 \n",
      "0 1 0 0 0 \n",
      "0 0 0 1 0 \n"
     ]
    }
   ],
   "source": [
    "#nqueens from user input\n",
    "\n",
    "def issafe(arr,x,y,n):\n",
    "    for row in range(x):\n",
    "        if arr[row][y] ==1:\n",
    "            # Checking column attack\n",
    "            return False\n",
    "    row = x\n",
    "    col = y\n",
    "    #Checking Diagonal Attack\n",
    "    while row>=0 and col>=0:\n",
    "        if arr[row][col]==1:\n",
    "            return False\n",
    "        row-=1\n",
    "        col-=1\n",
    "\n",
    "    row = x\n",
    "    col = y\n",
    "    #Checking Anti Diagonal Attack\n",
    "    while row>=0 and col<n:\n",
    "        if arr[row][col]==1:\n",
    "            return False\n",
    "        row-=1\n",
    "        col+=1\n",
    "\n",
    "    return True\n",
    "\n",
    "def nQueen(arr,x,n):\n",
    "    if x>=n:\n",
    "        return True\n",
    "\n",
    "    for col in range(n):\n",
    "        if issafe(arr,x,col,n):\n",
    "            arr[x][col]=1\n",
    "            if nQueen(arr,x+1,n):\n",
    "                return True\n",
    "            arr[x][col] = 0\n",
    "\n",
    "    return False\n",
    "\n",
    "\n",
    "\n",
    "\n",
    "def main():\n",
    "    n = int(input(\"Enter number of Queens : \"))\n",
    "    arr = [[0]*n for i in range(n)]\n",
    "\n",
    "    if nQueen(arr,0,n):\n",
    "        for i in range(n):\n",
    "            for j in range(n):\n",
    "                print(arr[i][j],end=\" \")\n",
    "            print()\n",
    "\n",
    "if __name__ == '__main__':\n",
    "    main()\n"
   ]
  },
  {
   "cell_type": "code",
   "execution_count": 9,
   "metadata": {},
   "outputs": [
    {
     "name": "stdout",
     "output_type": "stream",
     "text": [
      "{'Telengana': 'Red', 'Kerela': 'Red', 'Tamil Nadu': 'Blue', 'Karnataka': 'Green'}\n"
     ]
    }
   ],
   "source": [
    "#graphcoloring\n",
    "\n",
    "colors=['Red','Blue','Green']\n",
    "states = ['Telengana','Kerela','Tamil Nadu','Karnataka']\n",
    "neighbors = {}\n",
    "neighbors['Telengana']=['Karnataka','Tamil Nadu']\n",
    "neighbors['Karnataka']=['Telengana','Tamil Nadu','Kerela']\n",
    "neighbors['Tamil Nadu']=['Telengana','Karnataka','Kerela']\n",
    "neighbors['Kerela']=['Karnataka','Tamil Nadu']\n",
    "\n",
    "color_of_states={}\n",
    "\n",
    "def promising(state,color):\n",
    "    for neighbor in neighbors.get(state):\n",
    "        color_of_neighbor=color_of_states.get(neighbor)\n",
    "        if  color_of_neighbor == color:\n",
    "            return False\n",
    "    return True\n",
    "\n",
    "def get_color_of_state(state):\n",
    "    for color in colors:\n",
    "        if promising(state,color):\n",
    "            return color\n",
    "        \n",
    "        \n",
    "def main():\n",
    "    for state in states:\n",
    "        color_of_states[state]= get_color_of_state(state)\n",
    "    print(color_of_states)\n",
    "    \n",
    "    \n",
    "main()\n"
   ]
  },
  {
   "cell_type": "code",
   "execution_count": 8,
   "metadata": {},
   "outputs": [
    {
     "name": "stdout",
     "output_type": "stream",
     "text": [
      "Solution exist and Following are the assigned colours:\n",
      "Vertex 0 is given color:  1\n",
      "Vertex 1 is given color:  2\n",
      "Vertex 2 is given color:  3\n",
      "Vertex 3 is given color:  2\n"
     ]
    },
    {
     "data": {
      "text/plain": [
       "True"
      ]
     },
     "execution_count": 8,
     "metadata": {},
     "output_type": "execute_result"
    }
   ],
   "source": [
    "# Python program for solution of M Coloring\n",
    "# problem using backtracking\n",
    "\n",
    "V = 4\n",
    "m = 3\n",
    "graph = [[0, 1, 1, 1], \n",
    "         [1, 0, 1, 0], \n",
    "         [1, 1, 0, 1], \n",
    "         [1, 0, 1, 0]]\n",
    "\n",
    " # A utility function to check if the current color assignment is safe for vertex v\n",
    "    \n",
    "def isSafe(v, colour, c):\n",
    "    for i in range(V):\n",
    "        if graph[v][i] == 1 and colour[i] == c:\n",
    "            return False\n",
    "    return True\n",
    "\n",
    "# A recursive utility function to solve m coloring problem\n",
    "\n",
    "def graphColourUtil(m, colour, v):\n",
    "    if v == V:\n",
    "        return True\n",
    "\n",
    "    for c in range(1, m+1):\n",
    "        if isSafe(v, colour, c) == True:\n",
    "            colour[v] = c\n",
    "            if graphColourUtil(m, colour, v + 1) == True:\n",
    "                return True\n",
    "            colour[v] = 0\n",
    "\n",
    "    return False\n",
    "\n",
    "def graphColouring(m):\n",
    "    colour = [0] * V\n",
    "    if graphColourUtil(m, colour, 0) == False:\n",
    "        return False\n",
    "    print(\"Solution exist and Following are the assigned colours:\")\n",
    "    for i in range(4):\n",
    "            print(\"Vertex\",i, \"is given color: \",colour[i])\n",
    "    return True\n",
    "\n",
    "\n",
    "graphColouring(m)\n",
    "\n"
   ]
  },
  {
   "cell_type": "code",
   "execution_count": null,
   "metadata": {},
   "outputs": [],
   "source": []
  }
 ],
 "metadata": {
  "kernelspec": {
   "display_name": "Python 3 (ipykernel)",
   "language": "python",
   "name": "python3"
  },
  "language_info": {
   "codemirror_mode": {
    "name": "ipython",
    "version": 3
   },
   "file_extension": ".py",
   "mimetype": "text/x-python",
   "name": "python",
   "nbconvert_exporter": "python",
   "pygments_lexer": "ipython3",
   "version": "3.9.7"
  }
 },
 "nbformat": 4,
 "nbformat_minor": 2
}
