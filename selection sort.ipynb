{
 "cells": [
  {
   "cell_type": "code",
   "execution_count": 2,
   "id": "5801ef4c",
   "metadata": {},
   "outputs": [
    {
     "name": "stdout",
     "output_type": "stream",
     "text": [
      "Enter total numbers: 5\n",
      "\n",
      "\n",
      "Enter a number: 3\n",
      "Enter a number: 2\n",
      "Enter a number: 6\n",
      "Enter a number: 8\n",
      "Enter a number: 9\n",
      "\n",
      "\n",
      "[3, 2, 6, 8, 9]\n",
      "[2, 3, 6, 8, 9]\n"
     ]
    }
   ],
   "source": [
    "#selection sort\n",
    "\n",
    "def SelectionSort():\n",
    "    for i in range(n):\n",
    "        min_idx=i\n",
    "        for j in range(i+1,n):\n",
    "            if numbers[j]<numbers[min_idx]:\n",
    "                min_idx=j\n",
    "        numbers[i],numbers[min_idx]=numbers[min_idx],numbers[i]\n",
    "    print(numbers)\n",
    "    \n",
    "\n",
    "numbers=[]\n",
    "\n",
    "n=int(input(\"Enter total numbers: \"))\n",
    "\n",
    "print(\"\\n\")\n",
    "for i in range(0,n):\n",
    "    a=int(input(\"Enter a number: \"))\n",
    "    numbers.append(a)\n",
    "print(\"\\n\")\n",
    "print(numbers)\n",
    "SelectionSort()"
   ]
  },
  {
   "cell_type": "code",
   "execution_count": null,
   "id": "fb7febeb",
   "metadata": {},
   "outputs": [],
   "source": []
  }
 ],
 "metadata": {
  "kernelspec": {
   "display_name": "Python 3 (ipykernel)",
   "language": "python",
   "name": "python3"
  },
  "language_info": {
   "codemirror_mode": {
    "name": "ipython",
    "version": 3
   },
   "file_extension": ".py",
   "mimetype": "text/x-python",
   "name": "python",
   "nbconvert_exporter": "python",
   "pygments_lexer": "ipython3",
   "version": "3.9.7"
  }
 },
 "nbformat": 4,
 "nbformat_minor": 5
}
