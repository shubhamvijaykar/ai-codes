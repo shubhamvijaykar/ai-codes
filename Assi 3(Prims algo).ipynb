{
 "cells": [
  {
   "cell_type": "code",
   "execution_count": 1,
   "id": "f8efe943",
   "metadata": {},
   "outputs": [
    {
     "name": "stdout",
     "output_type": "stream",
     "text": [
      "edge : weight\n",
      "0-2 : 5\n",
      "2-3 : 1\n",
      "3-4 : 1\n",
      "4-1 : 2\n"
     ]
    }
   ],
   "source": [
    "INF = 999999\n",
    "N = 5\n",
    "G = [[0,19,5,0,0],\n",
    "     [19,0,5,9,2],\n",
    "     [5,5,0,1,6],\n",
    "     [0,9,1,0,1],\n",
    "     [0,2,6,1,0]]\n",
    "\n",
    "selected_node = [0,0,0,0,0]\n",
    "no_edge=0\n",
    "selected_node[0] = True\n",
    "\n",
    "print (\"edge : weight\")\n",
    "while(no_edge < N-1):\n",
    "    minimum = INF\n",
    "    a=0\n",
    "    b=0\n",
    "    for m in range(N):\n",
    "        if selected_node[m]:\n",
    "            for n in range(N):\n",
    "                if((not selected_node[n]) and G[m][n]):\n",
    "                    if minimum > G[m][n]:\n",
    "                        minimum = G[m][n]\n",
    "                        a=m\n",
    "                        b=n\n",
    "    print(str(a) + \"-\" + str(b) + \" : \" + str(G[a][b]))\n",
    "    selected_node[b] = True\n",
    "    no_edge +=1"
   ]
  },
  {
   "cell_type": "code",
   "execution_count": null,
   "id": "f8df017d",
   "metadata": {},
   "outputs": [],
   "source": []
  }
 ],
 "metadata": {
  "kernelspec": {
   "display_name": "Python 3 (ipykernel)",
   "language": "python",
   "name": "python3"
  },
  "language_info": {
   "codemirror_mode": {
    "name": "ipython",
    "version": 3
   },
   "file_extension": ".py",
   "mimetype": "text/x-python",
   "name": "python",
   "nbconvert_exporter": "python",
   "pygments_lexer": "ipython3",
   "version": "3.9.7"
  }
 },
 "nbformat": 4,
 "nbformat_minor": 5
}
