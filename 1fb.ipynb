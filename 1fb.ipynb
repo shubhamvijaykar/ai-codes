{
 "cells": [
  {
   "cell_type": "code",
   "execution_count": 1,
   "id": "bd8c6cf0",
   "metadata": {},
   "outputs": [
    {
     "name": "stdout",
     "output_type": "stream",
     "text": [
      "[0, 1, 1, 2, 3, 5, 8, 13, 21, 34]\n"
     ]
    }
   ],
   "source": [
    "def fib_iterative(n):\n",
    "    a = 0\n",
    "    b = 1\n",
    "    for _ in range(2, n):\n",
    "        print(a, end=\" \")\n",
    "        c = a + b\n",
    "        a = b\n",
    "        b = c\n",
    "\n",
    "\n",
    "# fib_iterative(10)\n",
    "\n",
    "\n",
    "def fibonacci(num):\n",
    "    if num == 0:\n",
    "        return 0\n",
    "    elif num == 1 or num == 2:\n",
    "        return 1\n",
    "    else:\n",
    "        return fibonacci(num - 1) + fibonacci(num - 2)\n",
    "\n",
    "\n",
    "n = 10\n",
    "# print(fibonacci(n))\n",
    "fib_series = []\n",
    "\n",
    "for i in range(n):\n",
    "    fib_series.append(fibonacci(i))\n",
    "\n",
    "print(fib_series)"
   ]
  },
  {
   "cell_type": "code",
   "execution_count": null,
   "id": "b3c145dc",
   "metadata": {},
   "outputs": [],
   "source": []
  }
 ],
 "metadata": {
  "kernelspec": {
   "display_name": "Python 3 (ipykernel)",
   "language": "python",
   "name": "python3"
  },
  "language_info": {
   "codemirror_mode": {
    "name": "ipython",
    "version": 3
   },
   "file_extension": ".py",
   "mimetype": "text/x-python",
   "name": "python",
   "nbconvert_exporter": "python",
   "pygments_lexer": "ipython3",
   "version": "3.10.6"
  }
 },
 "nbformat": 4,
 "nbformat_minor": 5
}
