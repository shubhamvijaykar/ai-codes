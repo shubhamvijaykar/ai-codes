{
 "cells": [
  {
   "cell_type": "code",
   "execution_count": 2,
   "id": "3f15893c",
   "metadata": {},
   "outputs": [
    {
     "name": "stdout",
     "output_type": "stream",
     "text": [
      "220\n"
     ]
    }
   ],
   "source": [
    "# A Dynamic Programming based Python\n",
    "# Program for 0-1 Knapsack problem\n",
    "# Returns the maximum profit that can\n",
    "# be put in a knapsack of capacity W\n",
    "# Time Complexity: O(N * W). where ‘N’ is the number of elements and ‘W’ is capacity.\n",
    "# Auxiliary Space: O(N * W). The use of a 2-D array of size ‘N*W’.\n",
    "\n",
    "def knapSack(BagLimit, wt, profit, n):\n",
    "\n",
    "    K = [[0 for x in range(BagLimit + 1)] for x in range(n + 1)]\n",
    "\n",
    "    # Build table K[][] in bottom up manner\n",
    "    for i in range(n + 1):\n",
    "        for w in range(BagLimit + 1):\n",
    "            if i == 0 or w == 0:\n",
    "                K[i][w] = 0\n",
    "            elif wt[i-1] <= w:\n",
    "                K[i][w] = max(profit[i-1] + K[i-1][w-wt[i-1]], K[i-1][w])\n",
    "            else:\n",
    "                # same as previous\n",
    "                K[i][w] = K[i-1][w]\n",
    "\n",
    "    return K[n][BagLimit]\n",
    "\n",
    "\n",
    "# Driver code\n",
    "if __name__ == '__main__':\n",
    "    profit = [60, 100, 120]\n",
    "    weight = [10, 20, 30]\n",
    "    BagLimit = 50\n",
    "    n = len(profit)\n",
    "    print(knapSack(BagLimit, weight, profit, n))"
   ]
  },
  {
   "cell_type": "code",
   "execution_count": null,
   "id": "168ec827",
   "metadata": {},
   "outputs": [],
   "source": []
  }
 ],
 "metadata": {
  "kernelspec": {
   "display_name": "Python 3 (ipykernel)",
   "language": "python",
   "name": "python3"
  },
  "language_info": {
   "codemirror_mode": {
    "name": "ipython",
    "version": 3
   },
   "file_extension": ".py",
   "mimetype": "text/x-python",
   "name": "python",
   "nbconvert_exporter": "python",
   "pygments_lexer": "ipython3",
   "version": "3.10.6"
  }
 },
 "nbformat": 4,
 "nbformat_minor": 5
}
